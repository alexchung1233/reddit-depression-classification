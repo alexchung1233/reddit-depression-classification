{
 "cells": [
  {
   "cell_type": "code",
   "execution_count": 46,
   "metadata": {},
   "outputs": [],
   "source": [
    "import praw\n",
    "import json\n",
    "import csv\n",
    "import pandas as pd\n",
    "#authenication\n",
    "reddit = praw.Reddit(\n",
    "client_id = 'QRPUsdVY1VjByw',\n",
    "client_secret = 'Tml0McbtcqBOio8ZJfVO7_UZd5I',\n",
    "password = 'superman',\n",
    "user_agent = 'classifier by /u/mmonsterbasher',\n",
    "username = 'mmonsterbasher'\n",
    ")\n",
    "\n",
    "def get_non_depressed_data_set(subreddits):\n",
    "    subreddits = list(map(reddit.subreddit, subreddits))\n",
    "    comments = []\n",
    "    for subreddit in subreddits:\n",
    "        for submission in subreddit.hot(limit=250):\n",
    "            submission.comments.replace_more(limit=100)\n",
    "            comments.append(submission.comments.list())  \n",
    "            \n",
    "    with open(\"non_depressed_comments.csv\",'w',encoding='utf-8') as csvfile:\n",
    "        writer = csv.writer(csvfile)\n",
    "        for comment in comments:\n",
    "                for c in comment:\n",
    "                    writer.writerow([c.body])\n",
    "                    \n",
    "      \n",
    "\n",
    "def get_depressed_data_set(subreddits):\n",
    "    subreddits = list(map(reddit.subreddit, subreddits))\n",
    "    comments = []\n",
    "    for subreddit in subreddits:\n",
    "        for submission in subreddit.hot(limit=1000):\n",
    "            submission.comments.replace_more(limit=100)\n",
    "            comments.append(submission.comments.list())\n",
    "            \n",
    "    with open(\"depressed_comments2.csv\",'w',encoding='utf-8') as csvfile:\n",
    "        writer = csv.writer(csvfile)\n",
    "        for comment in comments:\n",
    "                for c in comment:\n",
    "                    writer.writerow([c.body])\n",
    "                    \n",
    "            \n",
    "\n"
   ]
  },
  {
   "cell_type": "code",
   "execution_count": 43,
   "metadata": {},
   "outputs": [],
   "source": [
    "get_non_depressed_data_set([\"depression\",\"depressed\",\"mentalhealth\",\"suicidewatch\"])"
   ]
  },
  {
   "cell_type": "code",
   "execution_count": 45,
   "metadata": {},
   "outputs": [
    {
     "data": {
      "text/plain": [
       "(27349, 1)"
      ]
     },
     "execution_count": 45,
     "metadata": {},
     "output_type": "execute_result"
    }
   ],
   "source": [
    "df = pd.read_csv(\"depressed_comments2.csv\")\n",
    "df.shape                                      \n"
   ]
  },
  {
   "cell_type": "code",
   "execution_count": 49,
   "metadata": {},
   "outputs": [],
   "source": [
    "get_non_depressed_data_set([\"frugal\",\"casualconversation\",\"relationships\",\"legaladvice\",\"AccomplishedToday\",\"wholesomememes\"])"
   ]
  },
  {
   "cell_type": "code",
   "execution_count": 51,
   "metadata": {},
   "outputs": [
    {
     "data": {
      "text/plain": [
       "(40649, 1)"
      ]
     },
     "execution_count": 51,
     "metadata": {},
     "output_type": "execute_result"
    }
   ],
   "source": [
    "df = pd.read_csv(\"non_depressed_comments.csv\")\n",
    "df.shape  "
   ]
  },
  {
   "cell_type": "code",
   "execution_count": null,
   "metadata": {},
   "outputs": [],
   "source": []
  }
 ],
 "metadata": {
  "kernelspec": {
   "display_name": "Python 3",
   "language": "python",
   "name": "python3"
  },
  "language_info": {
   "codemirror_mode": {
    "name": "ipython",
    "version": 3
   },
   "file_extension": ".py",
   "mimetype": "text/x-python",
   "name": "python",
   "nbconvert_exporter": "python",
   "pygments_lexer": "ipython3",
   "version": "3.6.5"
  }
 },
 "nbformat": 4,
 "nbformat_minor": 2
}
